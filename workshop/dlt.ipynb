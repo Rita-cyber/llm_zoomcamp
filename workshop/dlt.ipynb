{
 "cells": [
  {
   "cell_type": "code",
   "execution_count": 4,
   "id": "c1b016da-9ba7-4c7f-b213-23ba64540957",
   "metadata": {},
   "outputs": [],
   "source": [
    "# install dlt with Qdrant support and Qdrant client:\n",
    "!pip install -q \"dlt[qdrant]\" \"qdrant-client[fastembed]\""
   ]
  },
  {
   "cell_type": "code",
   "execution_count": 6,
   "id": "02d4a728-89bc-4464-b64e-23f00e75cf9b",
   "metadata": {},
   "outputs": [
    {
     "name": "stdout",
     "output_type": "stream",
     "text": [
      "1.13.0\n"
     ]
    }
   ],
   "source": [
    "# What's the version of dlt installed\n",
    "import dlt\n",
    "print(dlt.__version__)\n"
   ]
  },
  {
   "cell_type": "code",
   "execution_count": 12,
   "id": "de641b09-3e18-4084-b166-3e332b3670b2",
   "metadata": {},
   "outputs": [],
   "source": [
    "# helper function to read the FAQ data\n",
    "# Annotate it with @dlt.resource\n",
    "import requests\n",
    "@dlt.resource\n",
    "def zoomcamp_data():\n",
    "    docs_url = 'https://github.com/alexeygrigorev/llm-rag-workshop/raw/main/notebooks/documents.json'\n",
    "    docs_response = requests.get(docs_url)\n",
    "    documents_raw = docs_response.json()\n",
    "\n",
    "    for course in documents_raw:\n",
    "        course_name = course['course']\n",
    "\n",
    "        for doc in course['documents']:\n",
    "            doc['course'] = course_name\n",
    "            yield doc"
   ]
  },
  {
   "cell_type": "code",
   "execution_count": 13,
   "id": "a6843094-d0bd-4724-8551-504e6711a105",
   "metadata": {},
   "outputs": [],
   "source": [
    "\n",
    "# define a qdrant destination(db.qdrant) for that.\n",
    "\n",
    "from dlt.destinations import qdrant\n",
    "\n",
    "qdrant_destination = qdrant(\n",
    "  qd_path=\"db.qdrant\", \n",
    ")"
   ]
  },
  {
   "cell_type": "code",
   "execution_count": 14,
   "id": "672f4edd-d378-49f2-9569-053ad92bca64",
   "metadata": {},
   "outputs": [
    {
     "name": "stdout",
     "output_type": "stream",
     "text": [
      "Run started at 2025-07-09 09:13:10.800917+00:00 and COMPLETED in 6.64 seconds with 4 steps.\n",
      "Step extract COMPLETED in 0.83 seconds.\n",
      "\n",
      "Load package 1752052391.3008177 is EXTRACTED and NOT YET LOADED to the destination and contains no failed jobs\n",
      "\n",
      "Step normalize COMPLETED in 0.08 seconds.\n",
      "Normalized data for the following tables:\n",
      "- _dlt_pipeline_state: 1 row(s)\n",
      "- zoomcamp_data: 948 row(s)\n",
      "\n",
      "Load package 1752052391.3008177 is NORMALIZED and NOT YET LOADED to the destination and contains no failed jobs\n",
      "\n",
      "Step load COMPLETED in 5.24 seconds.\n",
      "Pipeline zoomcamp_pipeline load step completed in 5.22 seconds\n",
      "1 load package(s) were loaded to destination qdrant and into dataset zoomcamp_tagged_data\n",
      "The qdrant destination used /workspaces/llm_zoomcamp/workshop/db.qdrant location to store data\n",
      "Load package 1752052391.3008177 is LOADED and contains no failed jobs\n",
      "\n",
      "Step run COMPLETED in 6.64 seconds.\n",
      "Pipeline zoomcamp_pipeline load step completed in 5.22 seconds\n",
      "1 load package(s) were loaded to destination qdrant and into dataset zoomcamp_tagged_data\n",
      "The qdrant destination used /workspaces/llm_zoomcamp/workshop/db.qdrant location to store data\n",
      "Load package 1752052391.3008177 is LOADED and contains no failed jobs\n"
     ]
    }
   ],
   "source": [
    "#In this case, we tell dlt (and Qdrant) to create a folder with our data, and the name for it will be the defined qdrant_destination\n",
    "#Let's run the pipeline:\n",
    "\n",
    "pipeline = dlt.pipeline(\n",
    "    pipeline_name=\"zoomcamp_pipeline\",\n",
    "    destination=qdrant_destination,\n",
    "    dataset_name=\"zoomcamp_tagged_data\"\n",
    "\n",
    ")\n",
    "load_info = pipeline.run(zoomcamp_data())\n",
    "print(pipeline.last_trace)"
   ]
  }
 ],
 "metadata": {
  "kernelspec": {
   "display_name": "Python 3 (ipykernel)",
   "language": "python",
   "name": "python3"
  },
  "language_info": {
   "codemirror_mode": {
    "name": "ipython",
    "version": 3
   },
   "file_extension": ".py",
   "mimetype": "text/x-python",
   "name": "python",
   "nbconvert_exporter": "python",
   "pygments_lexer": "ipython3",
   "version": "3.12.1"
  }
 },
 "nbformat": 4,
 "nbformat_minor": 5
}
